{
 "cells": [
  {
   "cell_type": "markdown",
   "metadata": {},
   "source": [
    "# xray: A core Python package for climate science"
   ]
  },
  {
   "cell_type": "markdown",
   "metadata": {},
   "source": [
    "[xray](https://github.com/xray/xray) has been developed by scientists / engineers working at the [Climate Corporation](http://climate.com/)\n",
    "\n",
    "\n",
    "It is an open source project and Python package that aims to bring\n",
    "the labeled data power of [pandas](http://pandas.pydata.org) to the\n",
    "physical sciences, by providing N-dimensional variants of the core\n",
    "[pandas](http://pandas.pydata.org) data structures, `Series` and\n",
    "`DataFrame`: the xray `DataArray` and `Dataset`.\n",
    "\n",
    "<br>\n",
    "<!-- TEASER_END -->\n",
    "\n",
    "The goal is to provide a pandas-like and pandas-compatible toolkit for\n",
    "analytics on multi-dimensional arrays, rather than the tabular data for\n",
    "which pandas excels. The approach adopts the [Common Data\n",
    "Model](http://www.unidata.ucar.edu/software/thredds/current/netcdf-java/CDM)\n",
    "for self-describing scientific data in widespread use in the Earth\n",
    "sciences (e.g., [netCDF](http://www.unidata.ucar.edu/software/netcdf)\n",
    "and [OPeNDAP](http://www.opendap.org/)): `xray.Dataset` is an in-memory\n",
    "representation of a netCDF file.\n",
    "\n",
    "\n",
    "-   HTML documentation: <http://xray.readthedocs.org>: **really good doc !**\n",
    "\n",
    "-   Source code: <http://github.com/xray/xray>\n",
    "\n",
    "The main advantages of using [xray](https://github.com/xray/xray) versus [netCDF4](https://github.com/Unidata/netcdf4-python) are: \n",
    "\n",
    "+ intelligent selection along **labelled dimensions** (and also indexes)\n",
    "+ **groupby** operations ! \n",
    "+ data alignment \n",
    "+ IO (netcdf)\n",
    "+ conversion from / to [Pandas.DataFrames](http://pandas.pydata.org/pandas-docs/dev/generated/pandas.DataFrame.html)\n",
    "\n",
    "\n",
    "To install the latest version of xray (via conda): \n",
    "\n",
    "    ᐅ conda install xray\n",
    "\n",
    "or if you want the bleeding edge: \n",
    "\n",
    "    ᐅ pip install git+https://github.com/xray/xray"
   ]
  },
  {
   "cell_type": "code",
   "execution_count": 2,
   "metadata": {
    "collapsed": true
   },
   "outputs": [],
   "source": [
    "%matplotlib inline\n",
    "from matplotlib import pyplot as plt"
   ]
  },
  {
   "cell_type": "code",
   "execution_count": null,
   "metadata": {
    "collapsed": true
   },
   "outputs": [],
   "source": [
    "import xray"
   ]
  },
  {
   "cell_type": "code",
   "execution_count": null,
   "metadata": {
    "collapsed": true
   },
   "outputs": [],
   "source": []
  }
 ],
 "metadata": {
  "kernelspec": {
   "display_name": "Python 2",
   "language": "python",
   "name": "python2"
  },
  "language_info": {
   "codemirror_mode": {
    "name": "ipython",
    "version": 2
   },
   "file_extension": ".py",
   "mimetype": "text/x-python",
   "name": "python",
   "nbconvert_exporter": "python",
   "pygments_lexer": "ipython2",
   "version": "2.7.10"
  },
  "nikola": {
   "category": "",
   "date": "2015-07-31 12:22:27 UTC+12:00",
   "description": "",
   "link": "",
   "slug": "xray",
   "tags": "",
   "title": "xray",
   "type": "text"
  }
 },
 "nbformat": 4,
 "nbformat_minor": 0
}
