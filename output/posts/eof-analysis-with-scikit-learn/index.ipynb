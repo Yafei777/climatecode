{
 "cells": [
  {
   "cell_type": "markdown",
   "metadata": {},
   "source": [
    "In this notebook I give a very simple (and rather uncommented) example of how to use [scikit-learn]() to perform an Empirical Orthogonal Function decomposition (*EOF analysis*, often referred to as well as *Principal Component Analysis* or *PCA*) of a climate field, in this case the monthly Sea Surface Temperature (SST) anomalies in the Pacific. \n",
    "<!-- TEASER_END -->"
   ]
  },
  {
   "cell_type": "code",
   "execution_count": 1,
   "metadata": {
    "collapsed": false
   },
   "outputs": [],
   "source": [
    "import pandas as pd\n",
    "import numpy as np\n",
    "from numpy import ma\n",
    "from matplotlib import pyplot as plt\n",
    "from mpl_toolkits.basemap import Basemap as bm"
   ]
  },
  {
   "cell_type": "code",
   "execution_count": 2,
   "metadata": {
    "collapsed": false
   },
   "outputs": [],
   "source": [
    "%matplotlib inline"
   ]
  },
  {
   "cell_type": "code",
   "execution_count": 3,
   "metadata": {
    "collapsed": true
   },
   "outputs": [],
   "source": [
    "def plot_field(m, X, lat, lon, vmin, vmax, step, cmap=plt.get_cmap('jet'), \\\n",
    "               ax=False, title=False, grid=False):\n",
    "    if not ax: \n",
    "        f, ax = plt.subplots(figsize=(8, (X.shape[0] / float(X.shape[1])) * 8))\n",
    "    m.ax = ax\n",
    "    im = m.contourf(lons, lats, X, np.arange(vmin, vmax+step, step), \\\n",
    "                    latlon=True, cmap=cmap, extend='both', ax=ax)\n",
    "    m.drawcoastlines()\n",
    "    if grid: \n",
    "        m.drawmeridians(np.arange(0, 360, 30), labels=[0,0,0,1])\n",
    "        m.drawparallels(np.arange(-80, 80, 20), labels=[1,0,0,0])\n",
    "    m.colorbar(im)\n",
    "    if title: \n",
    "        ax.set_title(title)"
   ]
  },
  {
   "cell_type": "markdown",
   "metadata": {},
   "source": [
    "<br>\n",
    "## load the SST data"
   ]
  },
  {
   "cell_type": "code",
   "execution_count": 4,
   "metadata": {
    "collapsed": false
   },
   "outputs": [],
   "source": [
    "import xray"
   ]
  },
  {
   "cell_type": "code",
   "execution_count": 5,
   "metadata": {
    "collapsed": false
   },
   "outputs": [],
   "source": [
    "dset = xray.open_dataset('/Users/nicolasf/data/SST/ER_SST/ersst.realtime.nc')"
   ]
  },
  {
   "cell_type": "code",
   "execution_count": 6,
   "metadata": {
    "collapsed": false
   },
   "outputs": [
    {
     "data": {
      "text/plain": [
       "<xray.Dataset>\n",
       "Dimensions:  (lat: 89, lon: 180, time: 800, zlev: 1)\n",
       "Coordinates:\n",
       "  * lat      (lat) float32 -88.0 -86.0 -84.0 -82.0 -80.0 -78.0 -76.0 -74.0 ...\n",
       "  * time     (time) datetime64[ns] 1948-02-15 1948-03-15 1948-04-15 ...\n",
       "  * lon      (lon) float32 0.0 2.0 4.0 6.0 8.0 10.0 12.0 14.0 16.0 18.0 20.0 ...\n",
       "  * zlev     (zlev) float32 0.0\n",
       "Data variables:\n",
       "    sst      (time, zlev, lat, lon) float64 nan nan nan nan nan nan nan nan ...\n",
       "    anom     (time, zlev, lat, lon) float64 nan nan nan nan nan nan nan nan ...\n",
       "    err      (time, zlev, lat, lon) float64 nan nan nan nan nan nan nan nan ...\n",
       "Attributes:\n",
       "    nco_openmp_thread_number: 1\n",
       "    contact: Dick Reynolds, email: Richard.W.Reynolds@noaa.gov & Chunying Liu, email: Chunying.liu@noaa.gov\n",
       "    Conventions: CF-1.0\n",
       "    source: NOAA/National Climatic Data Center\n",
       "    history: Sun Oct  5 09:00:07 2014: ncrcat -O ersst.194802_ft.nc ersst.194803_ft.nc ersst.194804_ft.nc ersst.194805_ft.nc ersst.194806_ft.nc ersst.194807_ft.nc ersst.194808_ft.nc ersst.194809_ft.nc ersst.194810_ft.nc ersst.194811_ft.nc ersst.194812_ft.nc ersst.194901_ft.nc ersst.194902_ft.nc ersst.194903_ft.nc ersst.194904_ft.nc ersst.194905_ft.nc ersst.194906_ft.nc ersst.194907_ft.nc ersst.194908_ft.nc ersst.194909_ft.nc ersst.194910_ft.nc ersst.194911_ft.nc ersst.194912_ft.nc ersst.195001_ft.nc ersst...\n",
       "    description: Smith, T.M., and R.W. Reynolds, 2003: Extended Reconstruction of Global Sea Surface Temperatures Based on COADS Data (1854-1997). Journal of Climate, 16, 1495-1510. A vailable at http://www.ncdc.noaa.gov/img/climate/research/sst/ersst.pdf  Climatology is based on 1971-2000 OI.v2 SST, In situ data: ICOADS2.4 before 2006 and NCEP in situ data from 2007 to present\n",
       "    creation_date: 2010-03-23\n",
       "    title: ERSST V3b in situ only"
      ]
     },
     "execution_count": 6,
     "metadata": {},
     "output_type": "execute_result"
    }
   ],
   "source": [
    "dset"
   ]
  },
  {
   "cell_type": "markdown",
   "metadata": {},
   "source": [
    "<br>\n",
    "### Selects the period 1950 - 2013 and the tropical Pacific domain"
   ]
  },
  {
   "cell_type": "code",
   "execution_count": 7,
   "metadata": {
    "collapsed": false
   },
   "outputs": [],
   "source": [
    "dsub = dset.sel(time=slice('1950','2013'), zlev=0, lat=slice(-40,40), lon=slice(120,290))"
   ]
  },
  {
   "cell_type": "code",
   "execution_count": 8,
   "metadata": {
    "collapsed": false
   },
   "outputs": [],
   "source": [
    "lat = dsub['lat'].values\n",
    "lon = dsub['lon'].values\n",
    "sst = dsub['anom'].values"
   ]
  },
  {
   "cell_type": "code",
   "execution_count": 9,
   "metadata": {
    "collapsed": true
   },
   "outputs": [],
   "source": [
    "lons, lats = np.meshgrid(lon, lat)"
   ]
  },
  {
   "cell_type": "code",
   "execution_count": 10,
   "metadata": {
    "collapsed": false
   },
   "outputs": [
    {
     "data": {
      "text/plain": [
       "(768, 41, 86)"
      ]
     },
     "execution_count": 10,
     "metadata": {},
     "output_type": "execute_result"
    }
   ],
   "source": [
    "sst.shape"
   ]
  },
  {
   "cell_type": "markdown",
   "metadata": {},
   "source": [
    "<br>\n",
    "### reshape in 2D (time, space)"
   ]
  },
  {
   "cell_type": "code",
   "execution_count": 11,
   "metadata": {
    "collapsed": false
   },
   "outputs": [],
   "source": [
    "X = np.reshape(sst, (sst.shape[0], len(lat) * len(lon)), order='F')"
   ]
  },
  {
   "cell_type": "code",
   "execution_count": 12,
   "metadata": {
    "collapsed": false
   },
   "outputs": [
    {
     "data": {
      "text/plain": [
       "True"
      ]
     },
     "execution_count": 12,
     "metadata": {},
     "output_type": "execute_result"
    }
   ],
   "source": [
    "np.any(np.isnan(X))"
   ]
  },
  {
   "cell_type": "markdown",
   "metadata": {},
   "source": [
    "<br>\n",
    "### Mask the land points"
   ]
  },
  {
   "cell_type": "code",
   "execution_count": 13,
   "metadata": {
    "collapsed": false
   },
   "outputs": [
    {
     "data": {
      "text/plain": [
       "numpy.ndarray"
      ]
     },
     "execution_count": 13,
     "metadata": {},
     "output_type": "execute_result"
    }
   ],
   "source": [
    "type(X)"
   ]
  },
  {
   "cell_type": "code",
   "execution_count": 14,
   "metadata": {
    "collapsed": false
   },
   "outputs": [],
   "source": [
    "X = ma.masked_array(X, np.isnan(X))"
   ]
  },
  {
   "cell_type": "code",
   "execution_count": 15,
   "metadata": {
    "collapsed": false
   },
   "outputs": [
    {
     "data": {
      "text/plain": [
       "numpy.ma.core.MaskedArray"
      ]
     },
     "execution_count": 15,
     "metadata": {},
     "output_type": "execute_result"
    }
   ],
   "source": [
    "type(X)"
   ]
  },
  {
   "cell_type": "code",
   "execution_count": 16,
   "metadata": {
    "collapsed": false
   },
   "outputs": [],
   "source": [
    "land = X.sum(0).mask"
   ]
  },
  {
   "cell_type": "code",
   "execution_count": 17,
   "metadata": {
    "collapsed": false
   },
   "outputs": [],
   "source": [
    "ocean = -land"
   ]
  },
  {
   "cell_type": "markdown",
   "metadata": {},
   "source": [
    "<br>\n",
    "### keep only oceanic grid-points"
   ]
  },
  {
   "cell_type": "code",
   "execution_count": 18,
   "metadata": {
    "collapsed": false
   },
   "outputs": [],
   "source": [
    "X = X[:,ocean]"
   ]
  },
  {
   "cell_type": "markdown",
   "metadata": {},
   "source": [
    "<br>\n",
    "### Standardize SST using the fit and transform methods of the `sklearn.preprocessing.scaler.StandardScaler`"
   ]
  },
  {
   "cell_type": "code",
   "execution_count": 19,
   "metadata": {
    "collapsed": false
   },
   "outputs": [],
   "source": [
    "from sklearn import preprocessing\n",
    "scaler  = preprocessing.StandardScaler()"
   ]
  },
  {
   "cell_type": "code",
   "execution_count": 20,
   "metadata": {
    "collapsed": false
   },
   "outputs": [],
   "source": [
    "scaler_sst = scaler.fit(X)"
   ]
  },
  {
   "cell_type": "markdown",
   "metadata": {},
   "source": [
    "<br>\n",
    "### Once the scaler object has been 'trained' on the data, we can save it as a pickle object"
   ]
  },
  {
   "cell_type": "code",
   "execution_count": 21,
   "metadata": {
    "collapsed": false
   },
   "outputs": [],
   "source": [
    "from sklearn.externals import joblib"
   ]
  },
  {
   "cell_type": "code",
   "execution_count": 22,
   "metadata": {
    "collapsed": false
   },
   "outputs": [
    {
     "data": {
      "text/plain": [
       "['./scaler_sst.pkl']"
      ]
     },
     "execution_count": 22,
     "metadata": {},
     "output_type": "execute_result"
    }
   ],
   "source": [
    "joblib.dump(scaler_sst, './scaler_sst.pkl', compress=9)"
   ]
  },
  {
   "cell_type": "code",
   "execution_count": 23,
   "metadata": {
    "collapsed": false
   },
   "outputs": [],
   "source": [
    "scaler_sst = joblib.load('./scaler_sst.pkl')"
   ]
  },
  {
   "cell_type": "markdown",
   "metadata": {},
   "source": [
    "<br>\n",
    "### scales: use the `transform` method of the scaler object"
   ]
  },
  {
   "cell_type": "code",
   "execution_count": 24,
   "metadata": {
    "collapsed": false
   },
   "outputs": [],
   "source": [
    "X = scaler_sst.transform(X)"
   ]
  },
  {
   "cell_type": "markdown",
   "metadata": {},
   "source": [
    "<br>\n",
    "### verify that mean = 0 and std = 1"
   ]
  },
  {
   "cell_type": "code",
   "execution_count": 25,
   "metadata": {
    "collapsed": false
   },
   "outputs": [
    {
     "data": {
      "text/plain": [
       "-8.4161496440623899e-19"
      ]
     },
     "execution_count": 25,
     "metadata": {},
     "output_type": "execute_result"
    }
   ],
   "source": [
    "X.mean()"
   ]
  },
  {
   "cell_type": "code",
   "execution_count": 26,
   "metadata": {
    "collapsed": false
   },
   "outputs": [
    {
     "data": {
      "text/plain": [
       "1.0000000000000002"
      ]
     },
     "execution_count": 26,
     "metadata": {},
     "output_type": "execute_result"
    }
   ],
   "source": [
    "X.std()"
   ]
  },
  {
   "cell_type": "code",
   "execution_count": 27,
   "metadata": {
    "collapsed": false
   },
   "outputs": [
    {
     "data": {
      "text/plain": [
       "(768, 3133)"
      ]
     },
     "execution_count": 27,
     "metadata": {},
     "output_type": "execute_result"
    }
   ],
   "source": [
    "X.shape"
   ]
  },
  {
   "cell_type": "markdown",
   "metadata": {},
   "source": [
    "<br>\n",
    "### EOF decomposition "
   ]
  },
  {
   "cell_type": "code",
   "execution_count": 28,
   "metadata": {
    "collapsed": false
   },
   "outputs": [],
   "source": [
    "from sklearn.decomposition import pca"
   ]
  },
  {
   "cell_type": "markdown",
   "metadata": {},
   "source": [
    "<br>\n",
    "#### instantiates the PCA object"
   ]
  },
  {
   "cell_type": "code",
   "execution_count": 29,
   "metadata": {
    "collapsed": false
   },
   "outputs": [],
   "source": [
    "skpca = pca.PCA()"
   ]
  },
  {
   "cell_type": "markdown",
   "metadata": {},
   "source": [
    "<br>\n",
    "#### fit"
   ]
  },
  {
   "cell_type": "code",
   "execution_count": 30,
   "metadata": {
    "collapsed": false
   },
   "outputs": [
    {
     "data": {
      "text/plain": [
       "PCA(copy=True, n_components=None, whiten=False)"
      ]
     },
     "execution_count": 30,
     "metadata": {},
     "output_type": "execute_result"
    }
   ],
   "source": [
    "skpca.fit(X)"
   ]
  },
  {
   "cell_type": "markdown",
   "metadata": {},
   "source": [
    "<br>\n",
    "### Now saves the (fitted) PCA object for reuse in operations"
   ]
  },
  {
   "cell_type": "code",
   "execution_count": 31,
   "metadata": {
    "collapsed": false
   },
   "outputs": [
    {
     "data": {
      "text/plain": [
       "['../EOF.pkl']"
      ]
     },
     "execution_count": 31,
     "metadata": {},
     "output_type": "execute_result"
    }
   ],
   "source": [
    "joblib.dump(skpca, '../EOF.pkl', compress=9)"
   ]
  },
  {
   "cell_type": "code",
   "execution_count": 32,
   "metadata": {
    "collapsed": false
   },
   "outputs": [
    {
     "data": {
      "text/plain": [
       "[<matplotlib.lines.Line2D at 0x119ee3908>]"
      ]
     },
     "execution_count": 32,
     "metadata": {},
     "output_type": "execute_result"
    },
    {
     "data": {
      "image/png": "[encoded data removed]",
      "text/plain": [
       "<matplotlib.figure.Figure at 0x116bd8438>"
      ]
     },
     "metadata": {},
     "output_type": "display_data"
    }
   ],
   "source": [
    "f, ax = plt.subplots(figsize=(6,6))\n",
    "ax.plot(skpca.explained_variance_ratio_[0:10]*100)\n",
    "ax.plot(skpca.explained_variance_ratio_[0:10]*100,'ro')"
   ]
  },
  {
   "cell_type": "markdown",
   "metadata": {},
   "source": [
    "<br>\n",
    "### keep number of PC sufficient to explain 70 % of the original variance "
   ]
  },
  {
   "cell_type": "code",
   "execution_count": 33,
   "metadata": {
    "collapsed": false
   },
   "outputs": [],
   "source": [
    "ipc = np.where(skpca.explained_variance_ratio_.cumsum() >= 0.70)[0][0]"
   ]
  },
  {
   "cell_type": "code",
   "execution_count": 34,
   "metadata": {
    "collapsed": false
   },
   "outputs": [
    {
     "data": {
      "text/plain": [
       "9"
      ]
     },
     "execution_count": 34,
     "metadata": {},
     "output_type": "execute_result"
    }
   ],
   "source": [
    "ipc"
   ]
  },
  {
   "cell_type": "markdown",
   "metadata": {},
   "source": [
    "<br>\n",
    "### The Principal Components (PCs) are obtained by using the `transform` method of the `pca` object (`skpca`)"
   ]
  },
  {
   "cell_type": "code",
   "execution_count": 35,
   "metadata": {
    "collapsed": false
   },
   "outputs": [],
   "source": [
    "PCs = skpca.transform(X)"
   ]
  },
  {
   "cell_type": "code",
   "execution_count": 36,
   "metadata": {
    "collapsed": false
   },
   "outputs": [],
   "source": [
    "PCs = PCs[:,:ipc]"
   ]
  },
  {
   "cell_type": "markdown",
   "metadata": {},
   "source": [
    "<br>\n",
    "### The Empirical Orthogonal Functions (EOFs) are contained in the `components_` attribute of the `pca` object (`skpca`)"
   ]
  },
  {
   "cell_type": "code",
   "execution_count": 37,
   "metadata": {
    "collapsed": false
   },
   "outputs": [],
   "source": [
    "EOFs = skpca.components_"
   ]
  },
  {
   "cell_type": "code",
   "execution_count": 38,
   "metadata": {
    "collapsed": false
   },
   "outputs": [],
   "source": [
    "EOFs = EOFs[:ipc,:]"
   ]
  },
  {
   "cell_type": "code",
   "execution_count": 39,
   "metadata": {
    "collapsed": false
   },
   "outputs": [
    {
     "data": {
      "text/plain": [
       "(9, 3133)"
      ]
     },
     "execution_count": 39,
     "metadata": {},
     "output_type": "execute_result"
    }
   ],
   "source": [
    "EOFs.shape"
   ]
  },
  {
   "cell_type": "markdown",
   "metadata": {},
   "source": [
    "<br>\n",
    "### we can the reconstruct the 2D fields (maps)"
   ]
  },
  {
   "cell_type": "code",
   "execution_count": 40,
   "metadata": {
    "collapsed": false
   },
   "outputs": [],
   "source": [
    "EOF_recons = np.ones((ipc, len(lat) * len(lon))) * -999."
   ]
  },
  {
   "cell_type": "code",
   "execution_count": 41,
   "metadata": {
    "collapsed": false
   },
   "outputs": [],
   "source": [
    "for i in range(ipc): \n",
    "    EOF_recons[i,ocean] = EOFs[i,:]"
   ]
  },
  {
   "cell_type": "code",
   "execution_count": 42,
   "metadata": {
    "collapsed": false
   },
   "outputs": [],
   "source": [
    "EOF_recons = ma.masked_values(np.reshape(EOF_recons, (ipc, len(lat), len(lon)), order='F'), -999.)"
   ]
  },
  {
   "cell_type": "code",
   "execution_count": 43,
   "metadata": {
    "collapsed": false
   },
   "outputs": [
    {
     "data": {
      "text/plain": [
       "(9, 41, 86)"
      ]
     },
     "execution_count": 43,
     "metadata": {},
     "output_type": "execute_result"
    }
   ],
   "source": [
    "EOF_recons.shape"
   ]
  },
  {
   "cell_type": "code",
   "execution_count": 44,
   "metadata": {
    "collapsed": false
   },
   "outputs": [],
   "source": [
    "m = bm(projection='cyl',llcrnrlat=lat.min(),urcrnrlat=lat.max(),\\\n",
    "            llcrnrlon=lon.min(),urcrnrlon=lon.max(),\\\n",
    "            lat_ts=0,resolution='c')"
   ]
  },
  {
   "cell_type": "code",
   "execution_count": 45,
   "metadata": {
    "collapsed": false
   },
   "outputs": [
    {
     "data": {
      "text/plain": [
       "numpy.ma.core.MaskedArray"
      ]
     },
     "execution_count": 45,
     "metadata": {},
     "output_type": "execute_result"
    }
   ],
   "source": [
    "type(EOF_recons)"
   ]
  },
  {
   "cell_type": "code",
   "execution_count": 46,
   "metadata": {
    "collapsed": true
   },
   "outputs": [],
   "source": [
    "EOF_recons *= 100"
   ]
  },
  {
   "cell_type": "code",
   "execution_count": 47,
   "metadata": {
    "collapsed": false
   },
   "outputs": [
    {
     "data": {
      "image/png": "[encoded data removed]",
      "text/plain": [
       "<matplotlib.figure.Figure at 0x119f3e898>"
      ]
     },
     "metadata": {},
     "output_type": "display_data"
    }
   ],
   "source": [
    "plot_field(m, EOF_recons[0,:,:], lats, lons, -5, 5, 0.1, grid=True)"
   ]
  },
  {
   "cell_type": "markdown",
   "metadata": {},
   "source": [
    "<br>\n",
    "### scale the Principal Components"
   ]
  },
  {
   "cell_type": "code",
   "execution_count": 48,
   "metadata": {
    "collapsed": false
   },
   "outputs": [],
   "source": [
    "from sklearn.preprocessing import StandardScaler"
   ]
  },
  {
   "cell_type": "code",
   "execution_count": 49,
   "metadata": {
    "collapsed": false
   },
   "outputs": [],
   "source": [
    "scaler_PCs = StandardScaler()"
   ]
  },
  {
   "cell_type": "code",
   "execution_count": 50,
   "metadata": {
    "collapsed": false
   },
   "outputs": [
    {
     "data": {
      "text/plain": [
       "StandardScaler(copy=True, with_mean=True, with_std=True)"
      ]
     },
     "execution_count": 50,
     "metadata": {},
     "output_type": "execute_result"
    }
   ],
   "source": [
    "scaler_PCs.fit(PCs)"
   ]
  },
  {
   "cell_type": "code",
   "execution_count": 51,
   "metadata": {
    "collapsed": false
   },
   "outputs": [],
   "source": [
    "PCs_std = scaler_PCs.transform(PCs)"
   ]
  },
  {
   "cell_type": "code",
   "execution_count": 52,
   "metadata": {
    "collapsed": false
   },
   "outputs": [
    {
     "data": {
      "text/plain": [
       "['./scaler_PCs.pkl', './scaler_PCs.pkl_01.npy', './scaler_PCs.pkl_02.npy']"
      ]
     },
     "execution_count": 52,
     "metadata": {},
     "output_type": "execute_result"
    }
   ],
   "source": [
    "joblib.dump(scaler_PCs, './scaler_PCs.pkl')"
   ]
  },
  {
   "cell_type": "code",
   "execution_count": 53,
   "metadata": {
    "collapsed": false
   },
   "outputs": [],
   "source": [
    "PCdf = pd.DataFrame(PCs_std, index = dsub['time'], \\\n",
    "                    columns = [\"EOF%s\" % (x) for x in range(1, PCs_std.shape[1] +1)])"
   ]
  },
  {
   "cell_type": "code",
   "execution_count": 54,
   "metadata": {
    "collapsed": false
   },
   "outputs": [
    {
     "data": {
      "text/html": [
       "<div>\n",
       "<table border=\"1\" class=\"dataframe\">\n",
       "  <thead>\n",
       "    <tr style=\"text-align: right;\">\n",
       "      <th></th>\n",
       "      <th>EOF1</th>\n",
       "      <th>EOF2</th>\n",
       "      <th>EOF3</th>\n",
       "      <th>EOF4</th>\n",
       "      <th>EOF5</th>\n",
       "      <th>EOF6</th>\n",
       "      <th>EOF7</th>\n",
       "      <th>EOF8</th>\n",
       "      <th>EOF9</th>\n",
       "    </tr>\n",
       "    <tr>\n",
       "      <th>time</th>\n",
       "      <th></th>\n",
       "      <th></th>\n",
       "      <th></th>\n",
       "      <th></th>\n",
       "      <th></th>\n",
       "      <th></th>\n",
       "      <th></th>\n",
       "      <th></th>\n",
       "      <th></th>\n",
       "    </tr>\n",
       "  </thead>\n",
       "  <tbody>\n",
       "    <tr>\n",
       "      <th>1950-01-15</th>\n",
       "      <td>-1.123907</td>\n",
       "      <td>-1.755836</td>\n",
       "      <td>-0.452906</td>\n",
       "      <td>-0.712406</td>\n",
       "      <td>2.069823</td>\n",
       "      <td>-2.100420</td>\n",
       "      <td>0.717192</td>\n",
       "      <td>-0.657735</td>\n",
       "      <td>0.274798</td>\n",
       "    </tr>\n",
       "    <tr>\n",
       "      <th>1950-02-15</th>\n",
       "      <td>-1.249496</td>\n",
       "      <td>-1.710119</td>\n",
       "      <td>-0.638251</td>\n",
       "      <td>-0.524621</td>\n",
       "      <td>1.085331</td>\n",
       "      <td>-2.025163</td>\n",
       "      <td>-0.233940</td>\n",
       "      <td>-0.988423</td>\n",
       "      <td>0.049161</td>\n",
       "    </tr>\n",
       "    <tr>\n",
       "      <th>1950-03-15</th>\n",
       "      <td>-1.092109</td>\n",
       "      <td>-1.315710</td>\n",
       "      <td>-0.655874</td>\n",
       "      <td>0.620964</td>\n",
       "      <td>1.108923</td>\n",
       "      <td>-0.767232</td>\n",
       "      <td>-0.514578</td>\n",
       "      <td>-1.483388</td>\n",
       "      <td>0.898097</td>\n",
       "    </tr>\n",
       "    <tr>\n",
       "      <th>1950-04-15</th>\n",
       "      <td>-1.212728</td>\n",
       "      <td>-1.132280</td>\n",
       "      <td>-0.407089</td>\n",
       "      <td>0.413160</td>\n",
       "      <td>0.271240</td>\n",
       "      <td>-0.201163</td>\n",
       "      <td>-0.498882</td>\n",
       "      <td>-0.545291</td>\n",
       "      <td>1.621271</td>\n",
       "    </tr>\n",
       "    <tr>\n",
       "      <th>1950-05-15</th>\n",
       "      <td>-1.616118</td>\n",
       "      <td>-1.008179</td>\n",
       "      <td>-0.620920</td>\n",
       "      <td>-0.114747</td>\n",
       "      <td>0.097757</td>\n",
       "      <td>0.207640</td>\n",
       "      <td>-1.446340</td>\n",
       "      <td>-1.372091</td>\n",
       "      <td>1.284412</td>\n",
       "    </tr>\n",
       "  </tbody>\n",
       "</table>\n",
       "</div>"
      ],
      "text/plain": [
       "                EOF1      EOF2      EOF3      EOF4      EOF5      EOF6  \\\n",
       "time                                                                     \n",
       "1950-01-15 -1.123907 -1.755836 -0.452906 -0.712406  2.069823 -2.100420   \n",
       "1950-02-15 -1.249496 -1.710119 -0.638251 -0.524621  1.085331 -2.025163   \n",
       "1950-03-15 -1.092109 -1.315710 -0.655874  0.620964  1.108923 -0.767232   \n",
       "1950-04-15 -1.212728 -1.132280 -0.407089  0.413160  0.271240 -0.201163   \n",
       "1950-05-15 -1.616118 -1.008179 -0.620920 -0.114747  0.097757  0.207640   \n",
       "\n",
       "                EOF7      EOF8      EOF9  \n",
       "time                                      \n",
       "1950-01-15  0.717192 -0.657735  0.274798  \n",
       "1950-02-15 -0.233940 -0.988423  0.049161  \n",
       "1950-03-15 -0.514578 -1.483388  0.898097  \n",
       "1950-04-15 -0.498882 -0.545291  1.621271  \n",
       "1950-05-15 -1.446340 -1.372091  1.284412  "
      ]
     },
     "execution_count": 54,
     "metadata": {},
     "output_type": "execute_result"
    }
   ],
   "source": [
    "PCdf.head()"
   ]
  },
  {
   "cell_type": "code",
   "execution_count": 55,
   "metadata": {
    "collapsed": false
   },
   "outputs": [],
   "source": [
    "PCdf.to_csv('./EOF_ERSST_PCs.csv')"
   ]
  },
  {
   "cell_type": "code",
   "execution_count": 56,
   "metadata": {
    "collapsed": false
   },
   "outputs": [],
   "source": [
    "from scipy.signal import detrend"
   ]
  },
  {
   "cell_type": "code",
   "execution_count": 57,
   "metadata": {
    "collapsed": false
   },
   "outputs": [
    {
     "data": {
      "image/png": "[encoded data removed]",
      "text/plain": [
       "<matplotlib.figure.Figure at 0x112de5978>"
      ]
     },
     "metadata": {},
     "output_type": "display_data"
    }
   ],
   "source": [
    "f, ax = plt.subplots(figsize=(12,6))\n",
    "PCdf.ix[:,0].plot(ax=ax, color='k', label='PC1')\n",
    "ax.axhline(0, c='0.8')\n",
    "#ax.set_xlabel('period', fontsize=18)\n",
    "ax.plot(PCdf.index, detrend(PCdf.ix[:,0].values), 'r',  label='PC1 (trend removed)')\n",
    "ax.grid('off')\n",
    "ax.legend(loc=1); "
   ]
  },
  {
   "cell_type": "code",
   "execution_count": null,
   "metadata": {
    "collapsed": true
   },
   "outputs": [],
   "source": []
  }
 ],
 "metadata": {
  "kernelspec": {
   "display_name": "Python 3",
   "language": "python",
   "name": "python3"
  },
  "language_info": {
   "codemirror_mode": {
    "name": "ipython",
    "version": 3
   },
   "file_extension": ".py",
   "mimetype": "text/x-python",
   "name": "python",
   "nbconvert_exporter": "python",
   "pygments_lexer": "ipython3",
   "version": "3.4.3"
  },
  "nikola": {
   "category": "",
   "date": "2015-08-10 11:21:34 UTC+12:00",
   "description": "",
   "link": "",
   "slug": "eof-analysis-with-scikit-learn",
   "tags": "EOF,SST",
   "title": "EOF analysis with scikit-learn",
   "type": "text"
  }
 },
 "nbformat": 4,
 "nbformat_minor": 0
}
