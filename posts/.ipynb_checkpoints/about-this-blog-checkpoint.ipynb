{
 "cells": [
  {
   "cell_type": "markdown",
   "metadata": {},
   "source": [
    "This is a blog about code - mainly [Python](http://www.python.org) code -, climate science, open source and open science\n",
    "\n",
    "<!-- TEASER_END -->\n",
    "\n",
    "I have been using Python for about 10 years now, coming from Matlab and R, and have learned a few things along the way. My goal is to share snippets of code, tip and tricks, and give also some complete examples of research or operational workflows using Python. "
   ]
  },
  {
   "cell_type": "code",
   "execution_count": null,
   "metadata": {
    "collapsed": true
   },
   "outputs": [],
   "source": []
  }
 ],
 "metadata": {
  "kernelspec": {
   "display_name": "Python 2",
   "language": "python",
   "name": "python2"
  },
  "language_info": {
   "codemirror_mode": {
    "name": "ipython",
    "version": 2
   },
   "file_extension": ".py",
   "mimetype": "text/x-python",
   "name": "python",
   "nbconvert_exporter": "python",
   "pygments_lexer": "ipython2",
   "version": "2.7.10"
  },
  "nikola": {
   "category": "",
   "date": "2015-07-31 10:41:27 UTC+12:00",
   "description": "",
   "link": "",
   "slug": "about-this-blog",
   "tags": "",
   "title": "About this blog",
   "type": "text"
  }
 },
 "nbformat": 4,
 "nbformat_minor": 0
}
